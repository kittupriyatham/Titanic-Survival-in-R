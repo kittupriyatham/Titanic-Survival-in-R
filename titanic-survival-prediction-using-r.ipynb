{
 "cells": [
  {
   "cell_type": "markdown",
   "id": "61a38cff",
   "metadata": {
    "_uuid": "f0d88ea705af5855933e9f5b2c0accaed95dbddb",
    "papermill": {
     "duration": 0.014319,
     "end_time": "2022-04-22T05:37:25.042271",
     "exception": false,
     "start_time": "2022-04-22T05:37:25.027952",
     "status": "completed"
    },
    "tags": []
   },
   "source": [
    "# Titanic Survival Prediction using R"
   ]
  },
  {
   "cell_type": "markdown",
   "id": "1a8b8ae2",
   "metadata": {
    "_uuid": "9129b46c3f64d3e20491c8790b6a56fa9ad02ed6",
    "papermill": {
     "duration": 0.013035,
     "end_time": "2022-04-22T05:37:25.069960",
     "exception": false,
     "start_time": "2022-04-22T05:37:25.056925",
     "status": "completed"
    },
    "tags": []
   },
   "source": [
    "# Introduction\n",
    "\n",
    "Using `randomForest` to create a model predicting survival on the Titanic.\n",
    "\n",
    "* Feature engineering\n",
    "* Missing value imputation\n",
    "* Prediction!\n",
    "\n",
    "## Load and check data"
   ]
  },
  {
   "cell_type": "code",
   "execution_count": 1,
   "id": "228f0a59",
   "metadata": {
    "_uuid": "37053a771d9887d9d3c4dbe1beae1cfa5f3bd2af",
    "execution": {
     "iopub.execute_input": "2022-04-22T05:37:25.100221Z",
     "iopub.status.busy": "2022-04-22T05:37:25.098113Z",
     "iopub.status.idle": "2022-04-22T05:39:07.885568Z",
     "shell.execute_reply": "2022-04-22T05:39:07.883651Z"
    },
    "papermill": {
     "duration": 102.806616,
     "end_time": "2022-04-22T05:39:07.889603",
     "exception": false,
     "start_time": "2022-04-22T05:37:25.082987",
     "status": "completed"
    },
    "tags": [],
    "vscode": {
     "languageId": "r"
    }
   },
   "outputs": [
    {
     "name": "stderr",
     "output_type": "stream",
     "text": [
      "Installing package into ‘/usr/local/lib/R/site-library’\n",
      "(as ‘lib’ is unspecified)\n",
      "\n",
      "Installing package into ‘/usr/local/lib/R/site-library’\n",
      "(as ‘lib’ is unspecified)\n",
      "\n",
      "Installing package into ‘/usr/local/lib/R/site-library’\n",
      "(as ‘lib’ is unspecified)\n",
      "\n",
      "Installing package into ‘/usr/local/lib/R/site-library’\n",
      "(as ‘lib’ is unspecified)\n",
      "\n",
      "Warning message in install.packages(\"dplyr\"):\n",
      "“installation of package ‘dplyr’ had non-zero exit status”\n",
      "Installing package into ‘/usr/local/lib/R/site-library’\n",
      "(as ‘lib’ is unspecified)\n",
      "\n",
      "Installing package into ‘/usr/local/lib/R/site-library’\n",
      "(as ‘lib’ is unspecified)\n",
      "\n",
      "Warning message:\n",
      "“package ‘randomForest’ is not available for this version of R\n",
      "‘randomForest’ version 4.7-1 is in the repositories but depends on R (>= 4.1.0)\n",
      "\n",
      "A version of this package for your version of R might be available elsewhere,\n",
      "see the ideas at\n",
      "https://cran.r-project.org/doc/manuals/r-patched/R-admin.html#Installing-packages”\n",
      "\n",
      "Attaching package: ‘dplyr’\n",
      "\n",
      "\n",
      "The following objects are masked from ‘package:stats’:\n",
      "\n",
      "    filter, lag\n",
      "\n",
      "\n",
      "The following objects are masked from ‘package:base’:\n",
      "\n",
      "    intersect, setdiff, setequal, union\n",
      "\n",
      "\n",
      "\n",
      "Attaching package: ‘mice’\n",
      "\n",
      "\n",
      "The following object is masked from ‘package:stats’:\n",
      "\n",
      "    filter\n",
      "\n",
      "\n",
      "The following objects are masked from ‘package:base’:\n",
      "\n",
      "    cbind, rbind\n",
      "\n",
      "\n",
      "randomForest 4.6-14\n",
      "\n",
      "Type rfNews() to see new features/changes/bug fixes.\n",
      "\n",
      "\n",
      "Attaching package: ‘randomForest’\n",
      "\n",
      "\n",
      "The following object is masked from ‘package:dplyr’:\n",
      "\n",
      "    combine\n",
      "\n",
      "\n",
      "The following object is masked from ‘package:ggplot2’:\n",
      "\n",
      "    margin\n",
      "\n",
      "\n"
     ]
    }
   ],
   "source": [
    "#install packages\n",
    "install.packages(\"ggplot2\")\n",
    "install.packages(\"ggthemes\")\n",
    "install.packages(\"scales\")\n",
    "install.packages(\"dplyr\")\n",
    "install.packages(\"mice\")\n",
    "install.packages(\"randomForest\")\n",
    "# Load packages\n",
    "library('ggplot2') # visualization\n",
    "library('ggthemes') # visualization\n",
    "library('scales') # visualization\n",
    "library('dplyr') # data manipulation\n",
    "library('mice') # imputation\n",
    "library('randomForest') # classification algorithm"
   ]
  },
  {
   "cell_type": "markdown",
   "id": "ee1f0d74",
   "metadata": {
    "_uuid": "b59382f9f49cb2f87e07d257005a0356907c5d88",
    "papermill": {
     "duration": 0.014432,
     "end_time": "2022-04-22T05:39:07.921696",
     "exception": false,
     "start_time": "2022-04-22T05:39:07.907264",
     "status": "completed"
    },
    "tags": []
   },
   "source": [
    "Now that our packages are loaded, let's read in and take a peek at the data."
   ]
  },
  {
   "cell_type": "code",
   "execution_count": 2,
   "id": "1320b544",
   "metadata": {
    "_uuid": "d9ab13d1b9f96f0b0fda3eb1a347bf054399577f",
    "execution": {
     "iopub.execute_input": "2022-04-22T05:39:07.984408Z",
     "iopub.status.busy": "2022-04-22T05:39:07.952640Z",
     "iopub.status.idle": "2022-04-22T05:39:08.033393Z",
     "shell.execute_reply": "2022-04-22T05:39:08.031304Z"
    },
    "papermill": {
     "duration": 0.099863,
     "end_time": "2022-04-22T05:39:08.036040",
     "exception": false,
     "start_time": "2022-04-22T05:39:07.936177",
     "status": "completed"
    },
    "tags": [],
    "vscode": {
     "languageId": "r"
    }
   },
   "outputs": [],
   "source": [
    "train <- read.csv('train.csv', stringsAsFactors = F)\n",
    "test  <- read.csv('test.csv', stringsAsFactors = F)"
   ]
  },
  {
   "cell_type": "code",
   "execution_count": 3,
   "id": "3e2e87b1",
   "metadata": {
    "_uuid": "7e84c2c4adcec37e48024dd1e4ec0c65086b4cf8",
    "execution": {
     "iopub.execute_input": "2022-04-22T05:39:08.081625Z",
     "iopub.status.busy": "2022-04-22T05:39:08.066666Z",
     "iopub.status.idle": "2022-04-22T05:39:08.094911Z",
     "shell.execute_reply": "2022-04-22T05:39:08.093297Z"
    },
    "papermill": {
     "duration": 0.04729,
     "end_time": "2022-04-22T05:39:08.097760",
     "exception": false,
     "start_time": "2022-04-22T05:39:08.050470",
     "status": "completed"
    },
    "tags": [],
    "vscode": {
     "languageId": "r"
    }
   },
   "outputs": [],
   "source": [
    "full  <- bind_rows(train, test) # bind training & test data"
   ]
  },
  {
   "cell_type": "code",
   "execution_count": 4,
   "id": "7843c7fe",
   "metadata": {
    "_uuid": "b90a35a7e51c19dd615c2f29d26c50474c5d497f",
    "execution": {
     "iopub.execute_input": "2022-04-22T05:39:08.129101Z",
     "iopub.status.busy": "2022-04-22T05:39:08.127607Z",
     "iopub.status.idle": "2022-04-22T05:39:08.159961Z",
     "shell.execute_reply": "2022-04-22T05:39:08.157980Z"
    },
    "papermill": {
     "duration": 0.050731,
     "end_time": "2022-04-22T05:39:08.162638",
     "exception": false,
     "start_time": "2022-04-22T05:39:08.111907",
     "status": "completed"
    },
    "tags": [],
    "vscode": {
     "languageId": "r"
    }
   },
   "outputs": [
    {
     "name": "stdout",
     "output_type": "stream",
     "text": [
      "'data.frame':\t1309 obs. of  12 variables:\n",
      " $ PassengerId: int  1 2 3 4 5 6 7 8 9 10 ...\n",
      " $ Survived   : int  0 1 1 1 0 0 0 0 1 1 ...\n",
      " $ Pclass     : int  3 1 3 1 3 3 1 3 3 2 ...\n",
      " $ Name       : chr  \"Braund, Mr. Owen Harris\" \"Cumings, Mrs. John Bradley (Florence Briggs Thayer)\" \"Heikkinen, Miss. Laina\" \"Futrelle, Mrs. Jacques Heath (Lily May Peel)\" ...\n",
      " $ Sex        : chr  \"male\" \"female\" \"female\" \"female\" ...\n",
      " $ Age        : num  22 38 26 35 35 NA 54 2 27 14 ...\n",
      " $ SibSp      : int  1 1 0 1 0 0 0 3 0 1 ...\n",
      " $ Parch      : int  0 0 0 0 0 0 0 1 2 0 ...\n",
      " $ Ticket     : chr  \"A/5 21171\" \"PC 17599\" \"STON/O2. 3101282\" \"113803\" ...\n",
      " $ Fare       : num  7.25 71.28 7.92 53.1 8.05 ...\n",
      " $ Cabin      : chr  \"\" \"C85\" \"\" \"C123\" ...\n",
      " $ Embarked   : chr  \"S\" \"C\" \"S\" \"S\" ...\n"
     ]
    }
   ],
   "source": [
    "# check data\n",
    "str(full)"
   ]
  },
  {
   "cell_type": "markdown",
   "id": "4a89ca2a",
   "metadata": {
    "_uuid": "88de49efc42dc1af9e1a84486a22ed1d725a0160",
    "papermill": {
     "duration": 0.014176,
     "end_time": "2022-04-22T05:39:08.191040",
     "exception": false,
     "start_time": "2022-04-22T05:39:08.176864",
     "status": "completed"
    },
    "tags": []
   },
   "source": [
    "Variable Name | Description\n",
    "--------------|-------------\n",
    "Survived      | Survived (1) or died (0)\n",
    "Pclass        | Passenger's class\n",
    "Name          | Passenger's name\n",
    "Sex           | Passenger's sex\n",
    "Age           | Passenger's age\n",
    "SibSp         | Number of siblings/spouses aboard\n",
    "Parch         | Number of parents/children aboard\n",
    "Ticket        | Ticket number\n",
    "Fare          | Fare\n",
    "Cabin         | Cabin\n",
    "Embarked      | Port of embarkation"
   ]
  },
  {
   "cell_type": "code",
   "execution_count": 5,
   "id": "450c2bc0",
   "metadata": {
    "_uuid": "574e9e0cc46960b6f981c207260bae71d1b2c9e6",
    "execution": {
     "iopub.execute_input": "2022-04-22T05:39:08.222285Z",
     "iopub.status.busy": "2022-04-22T05:39:08.220782Z",
     "iopub.status.idle": "2022-04-22T05:39:08.237966Z",
     "shell.execute_reply": "2022-04-22T05:39:08.236260Z"
    },
    "papermill": {
     "duration": 0.035684,
     "end_time": "2022-04-22T05:39:08.240787",
     "exception": false,
     "start_time": "2022-04-22T05:39:08.205103",
     "status": "completed"
    },
    "tags": [],
    "vscode": {
     "languageId": "r"
    }
   },
   "outputs": [],
   "source": [
    "# Grab title from passenger names\n",
    "full$Title <- gsub('(.*, )|(\\\\..*)', '', full$Name)"
   ]
  },
  {
   "cell_type": "code",
   "execution_count": 6,
   "id": "90b6e405",
   "metadata": {
    "_uuid": "0f64af2251c1d058932ae1489977e5f80beff53e",
    "execution": {
     "iopub.execute_input": "2022-04-22T05:39:08.272376Z",
     "iopub.status.busy": "2022-04-22T05:39:08.270802Z",
     "iopub.status.idle": "2022-04-22T05:39:08.289744Z",
     "shell.execute_reply": "2022-04-22T05:39:08.288091Z"
    },
    "papermill": {
     "duration": 0.036956,
     "end_time": "2022-04-22T05:39:08.291947",
     "exception": false,
     "start_time": "2022-04-22T05:39:08.254991",
     "status": "completed"
    },
    "tags": [],
    "vscode": {
     "languageId": "r"
    }
   },
   "outputs": [
    {
     "data": {
      "text/plain": [
       "        \n",
       "         Capt Col Don Dona  Dr Jonkheer Lady Major Master Miss Mlle Mme  Mr Mrs\n",
       "  female    0   0   0    1   1        0    1     0      0  260    2   1   0 197\n",
       "  male      1   4   1    0   7        1    0     2     61    0    0   0 757   0\n",
       "        \n",
       "          Ms Rev Sir the Countess\n",
       "  female   2   0   0            1\n",
       "  male     0   8   1            0"
      ]
     },
     "metadata": {},
     "output_type": "display_data"
    }
   ],
   "source": [
    "# Show title counts by sex\n",
    "table(full$Sex, full$Title)"
   ]
  },
  {
   "cell_type": "code",
   "execution_count": 7,
   "id": "06235547",
   "metadata": {
    "_uuid": "e68f7873d81345d72d43cece3bcf37342e89ca98",
    "execution": {
     "iopub.execute_input": "2022-04-22T05:39:08.323945Z",
     "iopub.status.busy": "2022-04-22T05:39:08.322232Z",
     "iopub.status.idle": "2022-04-22T05:39:08.336348Z",
     "shell.execute_reply": "2022-04-22T05:39:08.334509Z"
    },
    "papermill": {
     "duration": 0.032481,
     "end_time": "2022-04-22T05:39:08.338771",
     "exception": false,
     "start_time": "2022-04-22T05:39:08.306290",
     "status": "completed"
    },
    "tags": [],
    "vscode": {
     "languageId": "r"
    }
   },
   "outputs": [],
   "source": [
    "# Titles with very low cell counts to be combined to \"rare\" level\n",
    "rare_title <- c('Dona', 'Lady', 'the Countess','Capt', 'Col', 'Don', \n",
    "                'Dr', 'Major', 'Rev', 'Sir', 'Jonkheer')"
   ]
  },
  {
   "cell_type": "code",
   "execution_count": 8,
   "id": "2b6aff8a",
   "metadata": {
    "_uuid": "27a29ddc7846c1be1d044ce9eb3efe268654d0a0",
    "execution": {
     "iopub.execute_input": "2022-04-22T05:39:08.370967Z",
     "iopub.status.busy": "2022-04-22T05:39:08.369297Z",
     "iopub.status.idle": "2022-04-22T05:39:08.388132Z",
     "shell.execute_reply": "2022-04-22T05:39:08.386359Z"
    },
    "papermill": {
     "duration": 0.037157,
     "end_time": "2022-04-22T05:39:08.390513",
     "exception": false,
     "start_time": "2022-04-22T05:39:08.353356",
     "status": "completed"
    },
    "tags": [],
    "vscode": {
     "languageId": "r"
    }
   },
   "outputs": [],
   "source": [
    "# Also reassign mlle, ms, and mme accordingly\n",
    "full$Title[full$Title == 'Mlle']        <- 'Miss' \n",
    "full$Title[full$Title == 'Ms']          <- 'Miss'\n",
    "full$Title[full$Title == 'Mme']         <- 'Mrs' \n",
    "full$Title[full$Title %in% rare_title]  <- 'Rare Title'"
   ]
  },
  {
   "cell_type": "code",
   "execution_count": 9,
   "id": "bfb10a7b",
   "metadata": {
    "_uuid": "3337975fa24c5f29dc107596dca719851672c038",
    "execution": {
     "iopub.execute_input": "2022-04-22T05:39:08.422381Z",
     "iopub.status.busy": "2022-04-22T05:39:08.420804Z",
     "iopub.status.idle": "2022-04-22T05:39:08.437899Z",
     "shell.execute_reply": "2022-04-22T05:39:08.436073Z"
    },
    "papermill": {
     "duration": 0.035152,
     "end_time": "2022-04-22T05:39:08.440073",
     "exception": false,
     "start_time": "2022-04-22T05:39:08.404921",
     "status": "completed"
    },
    "tags": [],
    "vscode": {
     "languageId": "r"
    }
   },
   "outputs": [
    {
     "data": {
      "text/plain": [
       "        \n",
       "         Master Miss  Mr Mrs Rare Title\n",
       "  female      0  264   0 198          4\n",
       "  male       61    0 757   0         25"
      ]
     },
     "metadata": {},
     "output_type": "display_data"
    }
   ],
   "source": [
    "# Show title counts by sex again\n",
    "table(full$Sex, full$Title)"
   ]
  },
  {
   "cell_type": "code",
   "execution_count": 10,
   "id": "a7e1b4a0",
   "metadata": {
    "_uuid": "05eb362f34d7e06f7090f12938e35ef75374f2c9",
    "execution": {
     "iopub.execute_input": "2022-04-22T05:39:08.472087Z",
     "iopub.status.busy": "2022-04-22T05:39:08.470448Z",
     "iopub.status.idle": "2022-04-22T05:39:08.501825Z",
     "shell.execute_reply": "2022-04-22T05:39:08.499922Z"
    },
    "papermill": {
     "duration": 0.049592,
     "end_time": "2022-04-22T05:39:08.504130",
     "exception": false,
     "start_time": "2022-04-22T05:39:08.454538",
     "status": "completed"
    },
    "tags": [],
    "vscode": {
     "languageId": "r"
    }
   },
   "outputs": [],
   "source": [
    "# Finally, grab surname from passenger name\n",
    "full$Surname <- sapply(full$Name,  \n",
    "                      function(x) strsplit(x, split = '[,.]')[[1]][1])"
   ]
  },
  {
   "cell_type": "code",
   "execution_count": 11,
   "id": "81a34cc7",
   "metadata": {
    "_uuid": "af41f70bc262f6bd7aade602554460b184ada3d8",
    "execution": {
     "iopub.execute_input": "2022-04-22T05:39:08.537127Z",
     "iopub.status.busy": "2022-04-22T05:39:08.535476Z",
     "iopub.status.idle": "2022-04-22T05:39:08.552262Z",
     "shell.execute_reply": "2022-04-22T05:39:08.550480Z"
    },
    "papermill": {
     "duration": 0.03544,
     "end_time": "2022-04-22T05:39:08.554481",
     "exception": false,
     "start_time": "2022-04-22T05:39:08.519041",
     "status": "completed"
    },
    "tags": [],
    "vscode": {
     "languageId": "r"
    }
   },
   "outputs": [
    {
     "name": "stdout",
     "output_type": "stream",
     "text": [
      "We have <b> 875 </b> unique surnames. I would be interested to infer ethnicity based on surname --- another time."
     ]
    }
   ],
   "source": [
    "cat(paste('We have <b>', nlevels(factor(full$Surname)), '</b> unique surnames. I would be interested to infer ethnicity based on surname --- another time.'))"
   ]
  },
  {
   "cell_type": "code",
   "execution_count": 12,
   "id": "8e37f0ef",
   "metadata": {
    "_uuid": "ce969e4748b95ecd188a4797928a4d149aa1439f",
    "execution": {
     "iopub.execute_input": "2022-04-22T05:39:08.599893Z",
     "iopub.status.busy": "2022-04-22T05:39:08.585570Z",
     "iopub.status.idle": "2022-04-22T05:39:08.611960Z",
     "shell.execute_reply": "2022-04-22T05:39:08.610286Z"
    },
    "papermill": {
     "duration": 0.045002,
     "end_time": "2022-04-22T05:39:08.614107",
     "exception": false,
     "start_time": "2022-04-22T05:39:08.569105",
     "status": "completed"
    },
    "tags": [],
    "vscode": {
     "languageId": "r"
    }
   },
   "outputs": [],
   "source": [
    "# Create a family size variable including the passenger themselves\n",
    "full$Fsize <- full$SibSp + full$Parch + 1"
   ]
  },
  {
   "cell_type": "code",
   "execution_count": 13,
   "id": "23747ce6",
   "metadata": {
    "_uuid": "08e7dcf1815dc219cd0b61b1122d65964bbd3477",
    "execution": {
     "iopub.execute_input": "2022-04-22T05:39:08.646782Z",
     "iopub.status.busy": "2022-04-22T05:39:08.645192Z",
     "iopub.status.idle": "2022-04-22T05:39:08.660581Z",
     "shell.execute_reply": "2022-04-22T05:39:08.658888Z"
    },
    "papermill": {
     "duration": 0.034013,
     "end_time": "2022-04-22T05:39:08.662710",
     "exception": false,
     "start_time": "2022-04-22T05:39:08.628697",
     "status": "completed"
    },
    "tags": [],
    "vscode": {
     "languageId": "r"
    }
   },
   "outputs": [],
   "source": [
    "# Create a family variable \n",
    "full$Family <- paste(full$Surname, full$Fsize, sep='_')"
   ]
  },
  {
   "cell_type": "code",
   "execution_count": 14,
   "id": "17daebac",
   "metadata": {
    "_uuid": "b3e95df51d5e0f009bf4332afc7f96768c3fbe99",
    "execution": {
     "iopub.execute_input": "2022-04-22T05:39:08.696022Z",
     "iopub.status.busy": "2022-04-22T05:39:08.694341Z",
     "iopub.status.idle": "2022-04-22T05:39:08.712077Z",
     "shell.execute_reply": "2022-04-22T05:39:08.710271Z"
    },
    "papermill": {
     "duration": 0.037067,
     "end_time": "2022-04-22T05:39:08.714381",
     "exception": false,
     "start_time": "2022-04-22T05:39:08.677314",
     "status": "completed"
    },
    "tags": [],
    "vscode": {
     "languageId": "r"
    }
   },
   "outputs": [],
   "source": [
    "# Discretize family size\n",
    "full$FsizeD[full$Fsize == 1] <- 'singleton'\n",
    "full$FsizeD[full$Fsize < 5 & full$Fsize > 1] <- 'small'\n",
    "full$FsizeD[full$Fsize > 4] <- 'large'"
   ]
  },
  {
   "cell_type": "code",
   "execution_count": 15,
   "id": "8ccd06f7",
   "metadata": {
    "_uuid": "a8dbfb3d08d30f0341c403fb3f7e8c61a3ef64fa",
    "execution": {
     "iopub.execute_input": "2022-04-22T05:39:08.746665Z",
     "iopub.status.busy": "2022-04-22T05:39:08.745088Z",
     "iopub.status.idle": "2022-04-22T05:39:08.763156Z",
     "shell.execute_reply": "2022-04-22T05:39:08.761387Z"
    },
    "papermill": {
     "duration": 0.036439,
     "end_time": "2022-04-22T05:39:08.765494",
     "exception": false,
     "start_time": "2022-04-22T05:39:08.729055",
     "status": "completed"
    },
    "tags": [],
    "vscode": {
     "languageId": "r"
    }
   },
   "outputs": [
    {
     "data": {
      "text/html": [
       "<style>\n",
       ".list-inline {list-style: none; margin:0; padding: 0}\n",
       ".list-inline>li {display: inline-block}\n",
       ".list-inline>li:not(:last-child)::after {content: \"\\00b7\"; padding: 0 .5ex}\n",
       "</style>\n",
       "<ol class=list-inline><li>''</li><li>'C85'</li><li>''</li><li>'C123'</li><li>''</li><li>''</li><li>'E46'</li><li>''</li><li>''</li><li>''</li><li>'G6'</li><li>'C103'</li><li>''</li><li>''</li><li>''</li><li>''</li><li>''</li><li>''</li><li>''</li><li>''</li><li>''</li><li>'D56'</li><li>''</li><li>'A6'</li><li>''</li><li>''</li><li>''</li><li>'C23 C25 C27'</li></ol>\n"
      ],
      "text/latex": [
       "\\begin{enumerate*}\n",
       "\\item ''\n",
       "\\item 'C85'\n",
       "\\item ''\n",
       "\\item 'C123'\n",
       "\\item ''\n",
       "\\item ''\n",
       "\\item 'E46'\n",
       "\\item ''\n",
       "\\item ''\n",
       "\\item ''\n",
       "\\item 'G6'\n",
       "\\item 'C103'\n",
       "\\item ''\n",
       "\\item ''\n",
       "\\item ''\n",
       "\\item ''\n",
       "\\item ''\n",
       "\\item ''\n",
       "\\item ''\n",
       "\\item ''\n",
       "\\item ''\n",
       "\\item 'D56'\n",
       "\\item ''\n",
       "\\item 'A6'\n",
       "\\item ''\n",
       "\\item ''\n",
       "\\item ''\n",
       "\\item 'C23 C25 C27'\n",
       "\\end{enumerate*}\n"
      ],
      "text/markdown": [
       "1. ''\n",
       "2. 'C85'\n",
       "3. ''\n",
       "4. 'C123'\n",
       "5. ''\n",
       "6. ''\n",
       "7. 'E46'\n",
       "8. ''\n",
       "9. ''\n",
       "10. ''\n",
       "11. 'G6'\n",
       "12. 'C103'\n",
       "13. ''\n",
       "14. ''\n",
       "15. ''\n",
       "16. ''\n",
       "17. ''\n",
       "18. ''\n",
       "19. ''\n",
       "20. ''\n",
       "21. ''\n",
       "22. 'D56'\n",
       "23. ''\n",
       "24. 'A6'\n",
       "25. ''\n",
       "26. ''\n",
       "27. ''\n",
       "28. 'C23 C25 C27'\n",
       "\n",
       "\n"
      ],
      "text/plain": [
       " [1] \"\"            \"C85\"         \"\"            \"C123\"        \"\"           \n",
       " [6] \"\"            \"E46\"         \"\"            \"\"            \"\"           \n",
       "[11] \"G6\"          \"C103\"        \"\"            \"\"            \"\"           \n",
       "[16] \"\"            \"\"            \"\"            \"\"            \"\"           \n",
       "[21] \"\"            \"D56\"         \"\"            \"A6\"          \"\"           \n",
       "[26] \"\"            \"\"            \"C23 C25 C27\""
      ]
     },
     "metadata": {},
     "output_type": "display_data"
    }
   ],
   "source": [
    "# This variable appears to have a lot of missing values\n",
    "full$Cabin[1:28]"
   ]
  },
  {
   "cell_type": "code",
   "execution_count": 16,
   "id": "74077871",
   "metadata": {
    "_uuid": "cbe17376fbfcaf31ee79a71a3cf8940b4ba5049b",
    "execution": {
     "iopub.execute_input": "2022-04-22T05:39:08.799341Z",
     "iopub.status.busy": "2022-04-22T05:39:08.797654Z",
     "iopub.status.idle": "2022-04-22T05:39:08.816876Z",
     "shell.execute_reply": "2022-04-22T05:39:08.814746Z"
    },
    "papermill": {
     "duration": 0.039063,
     "end_time": "2022-04-22T05:39:08.819826",
     "exception": false,
     "start_time": "2022-04-22T05:39:08.780763",
     "status": "completed"
    },
    "tags": [],
    "vscode": {
     "languageId": "r"
    }
   },
   "outputs": [
    {
     "data": {
      "text/html": [
       "<style>\n",
       ".list-inline {list-style: none; margin:0; padding: 0}\n",
       ".list-inline>li {display: inline-block}\n",
       ".list-inline>li:not(:last-child)::after {content: \"\\00b7\"; padding: 0 .5ex}\n",
       "</style>\n",
       "<ol class=list-inline><li>'C'</li><li>'8'</li><li>'5'</li></ol>\n"
      ],
      "text/latex": [
       "\\begin{enumerate*}\n",
       "\\item 'C'\n",
       "\\item '8'\n",
       "\\item '5'\n",
       "\\end{enumerate*}\n"
      ],
      "text/markdown": [
       "1. 'C'\n",
       "2. '8'\n",
       "3. '5'\n",
       "\n",
       "\n"
      ],
      "text/plain": [
       "[1] \"C\" \"8\" \"5\""
      ]
     },
     "metadata": {},
     "output_type": "display_data"
    }
   ],
   "source": [
    "# The first character is the deck. For example:\n",
    "strsplit(full$Cabin[2], NULL)[[1]]"
   ]
  },
  {
   "cell_type": "code",
   "execution_count": 17,
   "id": "05411bb5",
   "metadata": {
    "_uuid": "f204ab94dc162e668312952bb085128f51965442",
    "execution": {
     "iopub.execute_input": "2022-04-22T05:39:08.853562Z",
     "iopub.status.busy": "2022-04-22T05:39:08.851823Z",
     "iopub.status.idle": "2022-04-22T05:39:08.873251Z",
     "shell.execute_reply": "2022-04-22T05:39:08.871353Z"
    },
    "papermill": {
     "duration": 0.040449,
     "end_time": "2022-04-22T05:39:08.875474",
     "exception": false,
     "start_time": "2022-04-22T05:39:08.835025",
     "status": "completed"
    },
    "tags": [],
    "vscode": {
     "languageId": "r"
    }
   },
   "outputs": [],
   "source": [
    "# Create a Deck variable. Get passenger deck A - F:\n",
    "full$Deck<-factor(sapply(full$Cabin, function(x) strsplit(x, NULL)[[1]][1]))"
   ]
  },
  {
   "cell_type": "code",
   "execution_count": 18,
   "id": "b8582fee",
   "metadata": {
    "_uuid": "dde4978db63045a9a72b5b4374f6f833f9bf5654",
    "execution": {
     "iopub.execute_input": "2022-04-22T05:39:08.909104Z",
     "iopub.status.busy": "2022-04-22T05:39:08.907435Z",
     "iopub.status.idle": "2022-04-22T05:39:08.924724Z",
     "shell.execute_reply": "2022-04-22T05:39:08.922974Z"
    },
    "papermill": {
     "duration": 0.036299,
     "end_time": "2022-04-22T05:39:08.926988",
     "exception": false,
     "start_time": "2022-04-22T05:39:08.890689",
     "status": "completed"
    },
    "tags": [],
    "vscode": {
     "languageId": "r"
    }
   },
   "outputs": [
    {
     "data": {
      "text/html": [
       "<style>\n",
       ".list-inline {list-style: none; margin:0; padding: 0}\n",
       ".list-inline>li {display: inline-block}\n",
       ".list-inline>li:not(:last-child)::after {content: \"\\00b7\"; padding: 0 .5ex}\n",
       "</style>\n",
       "<ol class=list-inline><li>''</li><li>'C85'</li><li>''</li><li>'C123'</li><li>''</li><li>''</li><li>'E46'</li><li>''</li><li>''</li><li>''</li><li>'G6'</li><li>'C103'</li><li>''</li><li>''</li><li>''</li><li>''</li><li>''</li><li>''</li><li>''</li><li>''</li><li>''</li><li>'D56'</li><li>''</li><li>'A6'</li><li>''</li><li>''</li><li>''</li><li>'C23 C25 C27'</li></ol>\n"
      ],
      "text/latex": [
       "\\begin{enumerate*}\n",
       "\\item ''\n",
       "\\item 'C85'\n",
       "\\item ''\n",
       "\\item 'C123'\n",
       "\\item ''\n",
       "\\item ''\n",
       "\\item 'E46'\n",
       "\\item ''\n",
       "\\item ''\n",
       "\\item ''\n",
       "\\item 'G6'\n",
       "\\item 'C103'\n",
       "\\item ''\n",
       "\\item ''\n",
       "\\item ''\n",
       "\\item ''\n",
       "\\item ''\n",
       "\\item ''\n",
       "\\item ''\n",
       "\\item ''\n",
       "\\item ''\n",
       "\\item 'D56'\n",
       "\\item ''\n",
       "\\item 'A6'\n",
       "\\item ''\n",
       "\\item ''\n",
       "\\item ''\n",
       "\\item 'C23 C25 C27'\n",
       "\\end{enumerate*}\n"
      ],
      "text/markdown": [
       "1. ''\n",
       "2. 'C85'\n",
       "3. ''\n",
       "4. 'C123'\n",
       "5. ''\n",
       "6. ''\n",
       "7. 'E46'\n",
       "8. ''\n",
       "9. ''\n",
       "10. ''\n",
       "11. 'G6'\n",
       "12. 'C103'\n",
       "13. ''\n",
       "14. ''\n",
       "15. ''\n",
       "16. ''\n",
       "17. ''\n",
       "18. ''\n",
       "19. ''\n",
       "20. ''\n",
       "21. ''\n",
       "22. 'D56'\n",
       "23. ''\n",
       "24. 'A6'\n",
       "25. ''\n",
       "26. ''\n",
       "27. ''\n",
       "28. 'C23 C25 C27'\n",
       "\n",
       "\n"
      ],
      "text/plain": [
       " [1] \"\"            \"C85\"         \"\"            \"C123\"        \"\"           \n",
       " [6] \"\"            \"E46\"         \"\"            \"\"            \"\"           \n",
       "[11] \"G6\"          \"C103\"        \"\"            \"\"            \"\"           \n",
       "[16] \"\"            \"\"            \"\"            \"\"            \"\"           \n",
       "[21] \"\"            \"D56\"         \"\"            \"A6\"          \"\"           \n",
       "[26] \"\"            \"\"            \"C23 C25 C27\""
      ]
     },
     "metadata": {},
     "output_type": "display_data"
    }
   ],
   "source": [
    "# This variable appears to have a lot of missing values\n",
    "full$Cabin[1:28]"
   ]
  },
  {
   "cell_type": "code",
   "execution_count": 19,
   "id": "885c0933",
   "metadata": {
    "_uuid": "8e0a1a0b1f6ee83e524d471c12457e5b7b3a3f52",
    "execution": {
     "iopub.execute_input": "2022-04-22T05:39:08.962157Z",
     "iopub.status.busy": "2022-04-22T05:39:08.960547Z",
     "iopub.status.idle": "2022-04-22T05:39:08.977449Z",
     "shell.execute_reply": "2022-04-22T05:39:08.975795Z"
    },
    "papermill": {
     "duration": 0.036585,
     "end_time": "2022-04-22T05:39:08.979637",
     "exception": false,
     "start_time": "2022-04-22T05:39:08.943052",
     "status": "completed"
    },
    "tags": [],
    "vscode": {
     "languageId": "r"
    }
   },
   "outputs": [
    {
     "data": {
      "text/html": [
       "<style>\n",
       ".list-inline {list-style: none; margin:0; padding: 0}\n",
       ".list-inline>li {display: inline-block}\n",
       ".list-inline>li:not(:last-child)::after {content: \"\\00b7\"; padding: 0 .5ex}\n",
       "</style>\n",
       "<ol class=list-inline><li>'C'</li><li>'8'</li><li>'5'</li></ol>\n"
      ],
      "text/latex": [
       "\\begin{enumerate*}\n",
       "\\item 'C'\n",
       "\\item '8'\n",
       "\\item '5'\n",
       "\\end{enumerate*}\n"
      ],
      "text/markdown": [
       "1. 'C'\n",
       "2. '8'\n",
       "3. '5'\n",
       "\n",
       "\n"
      ],
      "text/plain": [
       "[1] \"C\" \"8\" \"5\""
      ]
     },
     "metadata": {},
     "output_type": "display_data"
    }
   ],
   "source": [
    "# The first character is the deck. For example:\n",
    "strsplit(full$Cabin[2], NULL)[[1]]"
   ]
  },
  {
   "cell_type": "code",
   "execution_count": 20,
   "id": "ba420abb",
   "metadata": {
    "_uuid": "cfc51d020161260fbafd1ca8fc6af35ff5048260",
    "execution": {
     "iopub.execute_input": "2022-04-22T05:39:09.014919Z",
     "iopub.status.busy": "2022-04-22T05:39:09.013215Z",
     "iopub.status.idle": "2022-04-22T05:39:09.046715Z",
     "shell.execute_reply": "2022-04-22T05:39:09.044837Z"
    },
    "papermill": {
     "duration": 0.05315,
     "end_time": "2022-04-22T05:39:09.049021",
     "exception": false,
     "start_time": "2022-04-22T05:39:08.995871",
     "status": "completed"
    },
    "tags": [],
    "vscode": {
     "languageId": "r"
    }
   },
   "outputs": [],
   "source": [
    "# Create a Deck variable. Get passenger deck A - F:\n",
    "full$Deck<-factor(sapply(full$Cabin, function(x) strsplit(x, NULL)[[1]][1]))"
   ]
  },
  {
   "cell_type": "markdown",
   "id": "3fa4ecd7",
   "metadata": {
    "_uuid": "cf5d3c9c2de38384bc19619e88d441143a21dbf4",
    "papermill": {
     "duration": 0.015982,
     "end_time": "2022-04-22T05:39:09.081141",
     "exception": false,
     "start_time": "2022-04-22T05:39:09.065159",
     "status": "completed"
    },
    "tags": []
   },
   "source": [
    "# Missingness\n",
    "\n",
    "\n",
    "\n",
    "## Sensible value imputation"
   ]
  },
  {
   "cell_type": "code",
   "execution_count": 21,
   "id": "4dcb71c0",
   "metadata": {
    "_uuid": "c6bff228f93d44192bdd7534839f0cfdf3eeabda",
    "execution": {
     "iopub.execute_input": "2022-04-22T05:39:09.115817Z",
     "iopub.status.busy": "2022-04-22T05:39:09.114150Z",
     "iopub.status.idle": "2022-04-22T05:39:09.131543Z",
     "shell.execute_reply": "2022-04-22T05:39:09.129744Z"
    },
    "papermill": {
     "duration": 0.03691,
     "end_time": "2022-04-22T05:39:09.133795",
     "exception": false,
     "start_time": "2022-04-22T05:39:09.096885",
     "status": "completed"
    },
    "tags": [],
    "vscode": {
     "languageId": "r"
    }
   },
   "outputs": [
    {
     "data": {
      "text/html": [
       "<style>\n",
       ".list-inline {list-style: none; margin:0; padding: 0}\n",
       ".list-inline>li {display: inline-block}\n",
       ".list-inline>li:not(:last-child)::after {content: \"\\00b7\"; padding: 0 .5ex}\n",
       "</style>\n",
       "<ol class=list-inline><li>''</li><li>''</li></ol>\n"
      ],
      "text/latex": [
       "\\begin{enumerate*}\n",
       "\\item ''\n",
       "\\item ''\n",
       "\\end{enumerate*}\n"
      ],
      "text/markdown": [
       "1. ''\n",
       "2. ''\n",
       "\n",
       "\n"
      ],
      "text/plain": [
       "[1] \"\" \"\""
      ]
     },
     "metadata": {},
     "output_type": "display_data"
    }
   ],
   "source": [
    "# Passengers 62 and 830 are missing Embarkment\n",
    "full[c(62, 830), 'Embarked']"
   ]
  },
  {
   "cell_type": "code",
   "execution_count": 22,
   "id": "0d2384f7",
   "metadata": {
    "_uuid": "98ebd6c05d68de256f7b3f558a574e5063b6f84b",
    "execution": {
     "iopub.execute_input": "2022-04-22T05:39:09.168643Z",
     "iopub.status.busy": "2022-04-22T05:39:09.166911Z",
     "iopub.status.idle": "2022-04-22T05:39:09.183109Z",
     "shell.execute_reply": "2022-04-22T05:39:09.181170Z"
    },
    "papermill": {
     "duration": 0.035978,
     "end_time": "2022-04-22T05:39:09.185496",
     "exception": false,
     "start_time": "2022-04-22T05:39:09.149518",
     "status": "completed"
    },
    "tags": [],
    "vscode": {
     "languageId": "r"
    }
   },
   "outputs": [
    {
     "name": "stdout",
     "output_type": "stream",
     "text": [
      "We will infer their values for **embarkment** based on present data that we can imagine may be relevant: **passenger class** and **fare**. We see that they paid<b> $ 80 </b>and<b> $ NA </b>respectively and their classes are<b> 1 </b>and<b> NA </b>. So from where did they embark?"
     ]
    }
   ],
   "source": [
    "cat(paste('We will infer their values for **embarkment** based on present data that we can imagine may be relevant: **passenger class** and **fare**. We see that they paid<b> $', full[c(62, 830), 'Fare'][[1]][1], '</b>and<b> $', full[c(62, 830), 'Fare'][[1]][2], '</b>respectively and their classes are<b>', full[c(62, 830), 'Pclass'][[1]][1], '</b>and<b>', full[c(62, 830), 'Pclass'][[1]][2], '</b>. So from where did they embark?'))"
   ]
  },
  {
   "cell_type": "code",
   "execution_count": 23,
   "id": "14803ae5",
   "metadata": {
    "_uuid": "68d178feb6d4f575660b0ccfb5e7048771468b01",
    "execution": {
     "iopub.execute_input": "2022-04-22T05:39:09.221376Z",
     "iopub.status.busy": "2022-04-22T05:39:09.219775Z",
     "iopub.status.idle": "2022-04-22T05:39:09.271630Z",
     "shell.execute_reply": "2022-04-22T05:39:09.269735Z"
    },
    "papermill": {
     "duration": 0.072207,
     "end_time": "2022-04-22T05:39:09.274186",
     "exception": false,
     "start_time": "2022-04-22T05:39:09.201979",
     "status": "completed"
    },
    "tags": [],
    "vscode": {
     "languageId": "r"
    }
   },
   "outputs": [],
   "source": [
    "# Get rid of our missing passenger IDs\n",
    "embark_fare <- full %>%\n",
    "  filter(PassengerId != 62 & PassengerId != 830)"
   ]
  },
  {
   "cell_type": "code",
   "execution_count": 24,
   "id": "d8b3ed3f",
   "metadata": {
    "_uuid": "cc1a07972a6fa5ca50af4e2922a511a52a558b2c",
    "execution": {
     "iopub.execute_input": "2022-04-22T05:39:09.309546Z",
     "iopub.status.busy": "2022-04-22T05:39:09.307949Z",
     "iopub.status.idle": "2022-04-22T05:39:09.322772Z",
     "shell.execute_reply": "2022-04-22T05:39:09.320935Z"
    },
    "papermill": {
     "duration": 0.035473,
     "end_time": "2022-04-22T05:39:09.325587",
     "exception": false,
     "start_time": "2022-04-22T05:39:09.290114",
     "status": "completed"
    },
    "tags": [],
    "vscode": {
     "languageId": "r"
    }
   },
   "outputs": [],
   "source": [
    "# Since their fare was $80 for 1st class, they most likely embarked from 'C'\n",
    "full$Embarked[c(62, 830)] <- 'C'"
   ]
  },
  {
   "cell_type": "code",
   "execution_count": 25,
   "id": "582966c6",
   "metadata": {
    "_uuid": "eb7fc7b04e181eaba3ef3b27d6eed8d731f7d363",
    "execution": {
     "iopub.execute_input": "2022-04-22T05:39:09.361111Z",
     "iopub.status.busy": "2022-04-22T05:39:09.359340Z",
     "iopub.status.idle": "2022-04-22T05:39:09.390900Z",
     "shell.execute_reply": "2022-04-22T05:39:09.388669Z"
    },
    "papermill": {
     "duration": 0.051958,
     "end_time": "2022-04-22T05:39:09.393648",
     "exception": false,
     "start_time": "2022-04-22T05:39:09.341690",
     "status": "completed"
    },
    "tags": [],
    "vscode": {
     "languageId": "r"
    }
   },
   "outputs": [
    {
     "data": {
      "text/html": [
       "<table class=\"dataframe\">\n",
       "<caption>A data.frame: 1 × 18</caption>\n",
       "<thead>\n",
       "\t<tr><th></th><th scope=col>PassengerId</th><th scope=col>Survived</th><th scope=col>Pclass</th><th scope=col>Name</th><th scope=col>Sex</th><th scope=col>Age</th><th scope=col>SibSp</th><th scope=col>Parch</th><th scope=col>Ticket</th><th scope=col>Fare</th><th scope=col>Cabin</th><th scope=col>Embarked</th><th scope=col>Title</th><th scope=col>Surname</th><th scope=col>Fsize</th><th scope=col>Family</th><th scope=col>FsizeD</th><th scope=col>Deck</th></tr>\n",
       "\t<tr><th></th><th scope=col>&lt;int&gt;</th><th scope=col>&lt;int&gt;</th><th scope=col>&lt;int&gt;</th><th scope=col>&lt;chr&gt;</th><th scope=col>&lt;chr&gt;</th><th scope=col>&lt;dbl&gt;</th><th scope=col>&lt;int&gt;</th><th scope=col>&lt;int&gt;</th><th scope=col>&lt;chr&gt;</th><th scope=col>&lt;dbl&gt;</th><th scope=col>&lt;chr&gt;</th><th scope=col>&lt;chr&gt;</th><th scope=col>&lt;chr&gt;</th><th scope=col>&lt;chr&gt;</th><th scope=col>&lt;dbl&gt;</th><th scope=col>&lt;chr&gt;</th><th scope=col>&lt;chr&gt;</th><th scope=col>&lt;fct&gt;</th></tr>\n",
       "</thead>\n",
       "<tbody>\n",
       "\t<tr><th scope=row>1044</th><td>1044</td><td>NA</td><td>3</td><td>Storey, Mr. Thomas</td><td>male</td><td>60.5</td><td>0</td><td>0</td><td>3701</td><td>NA</td><td></td><td>S</td><td>Mr</td><td>Storey</td><td>1</td><td>Storey_1</td><td>singleton</td><td>NA</td></tr>\n",
       "</tbody>\n",
       "</table>\n"
      ],
      "text/latex": [
       "A data.frame: 1 × 18\n",
       "\\begin{tabular}{r|llllllllllllllllll}\n",
       "  & PassengerId & Survived & Pclass & Name & Sex & Age & SibSp & Parch & Ticket & Fare & Cabin & Embarked & Title & Surname & Fsize & Family & FsizeD & Deck\\\\\n",
       "  & <int> & <int> & <int> & <chr> & <chr> & <dbl> & <int> & <int> & <chr> & <dbl> & <chr> & <chr> & <chr> & <chr> & <dbl> & <chr> & <chr> & <fct>\\\\\n",
       "\\hline\n",
       "\t1044 & 1044 & NA & 3 & Storey, Mr. Thomas & male & 60.5 & 0 & 0 & 3701 & NA &  & S & Mr & Storey & 1 & Storey\\_1 & singleton & NA\\\\\n",
       "\\end{tabular}\n"
      ],
      "text/markdown": [
       "\n",
       "A data.frame: 1 × 18\n",
       "\n",
       "| <!--/--> | PassengerId &lt;int&gt; | Survived &lt;int&gt; | Pclass &lt;int&gt; | Name &lt;chr&gt; | Sex &lt;chr&gt; | Age &lt;dbl&gt; | SibSp &lt;int&gt; | Parch &lt;int&gt; | Ticket &lt;chr&gt; | Fare &lt;dbl&gt; | Cabin &lt;chr&gt; | Embarked &lt;chr&gt; | Title &lt;chr&gt; | Surname &lt;chr&gt; | Fsize &lt;dbl&gt; | Family &lt;chr&gt; | FsizeD &lt;chr&gt; | Deck &lt;fct&gt; |\n",
       "|---|---|---|---|---|---|---|---|---|---|---|---|---|---|---|---|---|---|---|\n",
       "| 1044 | 1044 | NA | 3 | Storey, Mr. Thomas | male | 60.5 | 0 | 0 | 3701 | NA | <!----> | S | Mr | Storey | 1 | Storey_1 | singleton | NA |\n",
       "\n"
      ],
      "text/plain": [
       "     PassengerId Survived Pclass Name               Sex  Age  SibSp Parch\n",
       "1044 1044        NA       3      Storey, Mr. Thomas male 60.5 0     0    \n",
       "     Ticket Fare Cabin Embarked Title Surname Fsize Family   FsizeD    Deck\n",
       "1044 3701   NA         S        Mr    Storey  1     Storey_1 singleton NA  "
      ]
     },
     "metadata": {},
     "output_type": "display_data"
    }
   ],
   "source": [
    "# Show row 1044\n",
    "full[1044, ]"
   ]
  },
  {
   "cell_type": "code",
   "execution_count": 26,
   "id": "296f15a9",
   "metadata": {
    "_uuid": "2474171669fb905d3b7788c5ebeeef01b3d81996",
    "execution": {
     "iopub.execute_input": "2022-04-22T05:39:09.429424Z",
     "iopub.status.busy": "2022-04-22T05:39:09.427673Z",
     "iopub.status.idle": "2022-04-22T05:39:09.443840Z",
     "shell.execute_reply": "2022-04-22T05:39:09.441998Z"
    },
    "papermill": {
     "duration": 0.036795,
     "end_time": "2022-04-22T05:39:09.446710",
     "exception": false,
     "start_time": "2022-04-22T05:39:09.409915",
     "status": "completed"
    },
    "tags": [],
    "vscode": {
     "languageId": "r"
    }
   },
   "outputs": [],
   "source": [
    "# Replace missing fare value with median fare for class/embarkment\n",
    "full$Fare[1044] <- median(full[full$Pclass == '3' & full$Embarked == 'S', ]$Fare, na.rm = TRUE)"
   ]
  },
  {
   "cell_type": "markdown",
   "id": "f7eca7c3",
   "metadata": {
    "_uuid": "caf5c7d8fd86a430e98ba23b238ccca59d295b5a",
    "papermill": {
     "duration": 0.016293,
     "end_time": "2022-04-22T05:39:09.479191",
     "exception": false,
     "start_time": "2022-04-22T05:39:09.462898",
     "status": "completed"
    },
    "tags": []
   },
   "source": [
    "## Predictive imputation\n",
    "\n"
   ]
  },
  {
   "cell_type": "code",
   "execution_count": 27,
   "id": "9dd61679",
   "metadata": {
    "_uuid": "ec753399e1b5aa917ebdeb40a77a931201f2f8b4",
    "execution": {
     "iopub.execute_input": "2022-04-22T05:39:09.514446Z",
     "iopub.status.busy": "2022-04-22T05:39:09.512693Z",
     "iopub.status.idle": "2022-04-22T05:39:09.531108Z",
     "shell.execute_reply": "2022-04-22T05:39:09.529155Z"
    },
    "papermill": {
     "duration": 0.051666,
     "end_time": "2022-04-22T05:39:09.546865",
     "exception": false,
     "start_time": "2022-04-22T05:39:09.495199",
     "status": "completed"
    },
    "tags": [],
    "vscode": {
     "languageId": "r"
    }
   },
   "outputs": [
    {
     "data": {
      "text/html": [
       "263"
      ],
      "text/latex": [
       "263"
      ],
      "text/markdown": [
       "263"
      ],
      "text/plain": [
       "[1] 263"
      ]
     },
     "metadata": {},
     "output_type": "display_data"
    }
   ],
   "source": [
    "sum(is.na(full$Age))"
   ]
  },
  {
   "cell_type": "code",
   "execution_count": 28,
   "id": "fa4f1e44",
   "metadata": {
    "_uuid": "869d236c4e99724d5b3c6f2497f902305227c691",
    "execution": {
     "iopub.execute_input": "2022-04-22T05:39:09.582631Z",
     "iopub.status.busy": "2022-04-22T05:39:09.581034Z",
     "iopub.status.idle": "2022-04-22T05:39:09.604412Z",
     "shell.execute_reply": "2022-04-22T05:39:09.602669Z"
    },
    "papermill": {
     "duration": 0.044417,
     "end_time": "2022-04-22T05:39:09.607363",
     "exception": false,
     "start_time": "2022-04-22T05:39:09.562946",
     "status": "completed"
    },
    "tags": [],
    "vscode": {
     "languageId": "r"
    }
   },
   "outputs": [],
   "source": [
    "# Make variables factors into factors\n",
    "factor_vars <- c('PassengerId','Pclass','Sex','Embarked',\n",
    "                 'Title','Surname','Family','FsizeD')\n",
    "\n",
    "full[factor_vars] <- lapply(full[factor_vars], function(x) as.factor(x))"
   ]
  },
  {
   "cell_type": "code",
   "execution_count": 29,
   "id": "b41e6b7a",
   "metadata": {
    "_uuid": "b4ea0021ce9f9207398f1c3210b9e01c0ea59b3b",
    "execution": {
     "iopub.execute_input": "2022-04-22T05:39:09.642734Z",
     "iopub.status.busy": "2022-04-22T05:39:09.641138Z",
     "iopub.status.idle": "2022-04-22T05:39:09.656053Z",
     "shell.execute_reply": "2022-04-22T05:39:09.654322Z"
    },
    "papermill": {
     "duration": 0.035431,
     "end_time": "2022-04-22T05:39:09.658938",
     "exception": false,
     "start_time": "2022-04-22T05:39:09.623507",
     "status": "completed"
    },
    "tags": [],
    "vscode": {
     "languageId": "r"
    }
   },
   "outputs": [],
   "source": [
    "# Set a random seed\n",
    "set.seed(129)"
   ]
  },
  {
   "cell_type": "code",
   "execution_count": 30,
   "id": "fed35e82",
   "metadata": {
    "_uuid": "b089443ff7c1fc7f2b9b1380ac7694192c641e30",
    "execution": {
     "iopub.execute_input": "2022-04-22T05:39:09.694104Z",
     "iopub.status.busy": "2022-04-22T05:39:09.692574Z",
     "iopub.status.idle": "2022-04-22T05:39:18.814486Z",
     "shell.execute_reply": "2022-04-22T05:39:18.812197Z"
    },
    "papermill": {
     "duration": 9.142379,
     "end_time": "2022-04-22T05:39:18.817333",
     "exception": false,
     "start_time": "2022-04-22T05:39:09.674954",
     "status": "completed"
    },
    "tags": [],
    "vscode": {
     "languageId": "r"
    }
   },
   "outputs": [
    {
     "name": "stdout",
     "output_type": "stream",
     "text": [
      "\n",
      " iter imp variable\n",
      "  1   1  Age  Deck\n",
      "  1   2  Age  Deck\n",
      "  1   3  Age  Deck\n",
      "  1   4  Age  Deck\n",
      "  1   5  Age  Deck\n",
      "  2   1  Age  Deck\n",
      "  2   2  Age  Deck\n",
      "  2   3  Age  Deck\n",
      "  2   4  Age  Deck\n",
      "  2   5  Age  Deck\n",
      "  3   1  Age  Deck\n",
      "  3   2  Age  Deck\n",
      "  3   3  Age  Deck\n",
      "  3   4  Age  Deck\n",
      "  3   5  Age  Deck\n",
      "  4   1  Age  Deck\n",
      "  4   2  Age  Deck\n",
      "  4   3  Age  Deck\n",
      "  4   4  Age  Deck\n",
      "  4   5  Age  Deck\n",
      "  5   1  Age  Deck\n",
      "  5   2  Age  Deck\n",
      "  5   3  Age  Deck\n",
      "  5   4  Age  Deck\n",
      "  5   5  Age  Deck\n"
     ]
    },
    {
     "name": "stderr",
     "output_type": "stream",
     "text": [
      "Warning message:\n",
      "“Number of logged events: 50”\n"
     ]
    }
   ],
   "source": [
    "# Perform mice imputation, excluding certain less-than-useful variables:\n",
    "mice_mod <- mice(full[, !names(full) %in% c('PassengerId','Name','Ticket','Cabin','Family','Surname','Survived')], method='rf') "
   ]
  },
  {
   "cell_type": "code",
   "execution_count": 31,
   "id": "e178a51e",
   "metadata": {
    "_uuid": "3582dcbd3988c36e121655ccf7ee67584dd9a544",
    "execution": {
     "iopub.execute_input": "2022-04-22T05:39:18.887924Z",
     "iopub.status.busy": "2022-04-22T05:39:18.886290Z",
     "iopub.status.idle": "2022-04-22T05:39:18.902747Z",
     "shell.execute_reply": "2022-04-22T05:39:18.901053Z"
    },
    "papermill": {
     "duration": 0.071489,
     "end_time": "2022-04-22T05:39:18.905650",
     "exception": false,
     "start_time": "2022-04-22T05:39:18.834161",
     "status": "completed"
    },
    "tags": [],
    "vscode": {
     "languageId": "r"
    }
   },
   "outputs": [],
   "source": [
    "# Save the complete output \n",
    "mice_output <- complete(mice_mod)"
   ]
  },
  {
   "cell_type": "code",
   "execution_count": 32,
   "id": "6019641b",
   "metadata": {
    "_uuid": "c33a80099bf6f604938b71931c2561d0e5f104af",
    "execution": {
     "iopub.execute_input": "2022-04-22T05:39:18.941556Z",
     "iopub.status.busy": "2022-04-22T05:39:18.939937Z",
     "iopub.status.idle": "2022-04-22T05:39:18.955109Z",
     "shell.execute_reply": "2022-04-22T05:39:18.953305Z"
    },
    "papermill": {
     "duration": 0.036288,
     "end_time": "2022-04-22T05:39:18.958297",
     "exception": false,
     "start_time": "2022-04-22T05:39:18.922009",
     "status": "completed"
    },
    "tags": [],
    "vscode": {
     "languageId": "r"
    }
   },
   "outputs": [],
   "source": [
    "# Replace Age variable from the mice model.\n",
    "full$Age <- mice_output$Age"
   ]
  },
  {
   "cell_type": "code",
   "execution_count": 33,
   "id": "adf0bfe3",
   "metadata": {
    "_uuid": "ff8c608ddee2cb5f9ca2454935f956d19c214c50",
    "execution": {
     "iopub.execute_input": "2022-04-22T05:39:18.994601Z",
     "iopub.status.busy": "2022-04-22T05:39:18.992946Z",
     "iopub.status.idle": "2022-04-22T05:39:19.010687Z",
     "shell.execute_reply": "2022-04-22T05:39:19.008942Z"
    },
    "papermill": {
     "duration": 0.038083,
     "end_time": "2022-04-22T05:39:19.013043",
     "exception": false,
     "start_time": "2022-04-22T05:39:18.974960",
     "status": "completed"
    },
    "tags": [],
    "vscode": {
     "languageId": "r"
    }
   },
   "outputs": [
    {
     "data": {
      "text/html": [
       "0"
      ],
      "text/latex": [
       "0"
      ],
      "text/markdown": [
       "0"
      ],
      "text/plain": [
       "[1] 0"
      ]
     },
     "metadata": {},
     "output_type": "display_data"
    }
   ],
   "source": [
    "# Show new number of missing Age values\n",
    "sum(is.na(full$Age))"
   ]
  },
  {
   "cell_type": "code",
   "execution_count": 34,
   "id": "3b36a944",
   "metadata": {
    "_uuid": "49438844e8467ef5e7b1016c78b3b76f2689da17",
    "execution": {
     "iopub.execute_input": "2022-04-22T05:39:19.049751Z",
     "iopub.status.busy": "2022-04-22T05:39:19.048189Z",
     "iopub.status.idle": "2022-04-22T05:39:19.064146Z",
     "shell.execute_reply": "2022-04-22T05:39:19.062325Z"
    },
    "papermill": {
     "duration": 0.036794,
     "end_time": "2022-04-22T05:39:19.066598",
     "exception": false,
     "start_time": "2022-04-22T05:39:19.029804",
     "status": "completed"
    },
    "tags": [],
    "vscode": {
     "languageId": "r"
    }
   },
   "outputs": [],
   "source": [
    "# Create the column child, and indicate whether child or adult\n",
    "full$Child[full$Age < 18] <- 'Child'\n",
    "full$Child[full$Age >= 18] <- 'Adult'"
   ]
  },
  {
   "cell_type": "code",
   "execution_count": 35,
   "id": "320222ad",
   "metadata": {
    "_uuid": "5c25cdf6527cba2146c6817b7db6b239629f28cc",
    "execution": {
     "iopub.execute_input": "2022-04-22T05:39:19.102820Z",
     "iopub.status.busy": "2022-04-22T05:39:19.101264Z",
     "iopub.status.idle": "2022-04-22T05:39:19.120058Z",
     "shell.execute_reply": "2022-04-22T05:39:19.118065Z"
    },
    "papermill": {
     "duration": 0.039758,
     "end_time": "2022-04-22T05:39:19.122837",
     "exception": false,
     "start_time": "2022-04-22T05:39:19.083079",
     "status": "completed"
    },
    "tags": [],
    "vscode": {
     "languageId": "r"
    }
   },
   "outputs": [
    {
     "data": {
      "text/plain": [
       "       \n",
       "          0   1\n",
       "  Adult 481 268\n",
       "  Child  68  74"
      ]
     },
     "metadata": {},
     "output_type": "display_data"
    }
   ],
   "source": [
    "# Show counts\n",
    "table(full$Child, full$Survived)"
   ]
  },
  {
   "cell_type": "code",
   "execution_count": 36,
   "id": "c36d958b",
   "metadata": {
    "_uuid": "ed6a72d7a8e309005ee6cae9d769311054b59f85",
    "execution": {
     "iopub.execute_input": "2022-04-22T05:39:19.160133Z",
     "iopub.status.busy": "2022-04-22T05:39:19.158516Z",
     "iopub.status.idle": "2022-04-22T05:39:19.174560Z",
     "shell.execute_reply": "2022-04-22T05:39:19.172829Z"
    },
    "papermill": {
     "duration": 0.037064,
     "end_time": "2022-04-22T05:39:19.176960",
     "exception": false,
     "start_time": "2022-04-22T05:39:19.139896",
     "status": "completed"
    },
    "tags": [],
    "vscode": {
     "languageId": "r"
    }
   },
   "outputs": [],
   "source": [
    "# Adding Mother variable\n",
    "full$Mother <- 'Not Mother'\n",
    "full$Mother[full$Sex == 'female' & full$Parch > 0 & full$Age > 18 & full$Title != 'Miss'] <- 'Mother'"
   ]
  },
  {
   "cell_type": "code",
   "execution_count": 37,
   "id": "e305ec97",
   "metadata": {
    "_uuid": "c5bb41b7034fb52af19822372e960e13da13c3ae",
    "execution": {
     "iopub.execute_input": "2022-04-22T05:39:19.213405Z",
     "iopub.status.busy": "2022-04-22T05:39:19.211876Z",
     "iopub.status.idle": "2022-04-22T05:39:19.230962Z",
     "shell.execute_reply": "2022-04-22T05:39:19.229001Z"
    },
    "papermill": {
     "duration": 0.039945,
     "end_time": "2022-04-22T05:39:19.233682",
     "exception": false,
     "start_time": "2022-04-22T05:39:19.193737",
     "status": "completed"
    },
    "tags": [],
    "vscode": {
     "languageId": "r"
    }
   },
   "outputs": [
    {
     "data": {
      "text/plain": [
       "            \n",
       "               0   1\n",
       "  Mother      16  39\n",
       "  Not Mother 533 303"
      ]
     },
     "metadata": {},
     "output_type": "display_data"
    }
   ],
   "source": [
    "# Show counts\n",
    "table(full$Mother, full$Survived)"
   ]
  },
  {
   "cell_type": "code",
   "execution_count": 38,
   "id": "00ef2268",
   "metadata": {
    "_uuid": "1866b89aeda6b8def3cec2418c7cede88d7d8428",
    "execution": {
     "iopub.execute_input": "2022-04-22T05:39:19.271246Z",
     "iopub.status.busy": "2022-04-22T05:39:19.269509Z",
     "iopub.status.idle": "2022-04-22T05:39:19.286604Z",
     "shell.execute_reply": "2022-04-22T05:39:19.284730Z"
    },
    "papermill": {
     "duration": 0.03825,
     "end_time": "2022-04-22T05:39:19.289394",
     "exception": false,
     "start_time": "2022-04-22T05:39:19.251144",
     "status": "completed"
    },
    "tags": [],
    "vscode": {
     "languageId": "r"
    }
   },
   "outputs": [],
   "source": [
    "# Finish by factorizing our two new factor variables\n",
    "full$Child  <- factor(full$Child)\n",
    "full$Mother <- factor(full$Mother)"
   ]
  },
  {
   "cell_type": "markdown",
   "id": "272726f6",
   "metadata": {
    "_uuid": "1444a593caf0c8904ef52479be4fc33818852dbd",
    "papermill": {
     "duration": 0.016704,
     "end_time": "2022-04-22T05:39:19.322817",
     "exception": false,
     "start_time": "2022-04-22T05:39:19.306113",
     "status": "completed"
    },
    "tags": []
   },
   "source": [
    "# Prediction\n",
    "\n",
    "\n",
    "## Split into training & test sets\n",
    "\n",
    "Our first step is to split the data back into the original test and training sets.\n"
   ]
  },
  {
   "cell_type": "code",
   "execution_count": 39,
   "id": "d7771654",
   "metadata": {
    "_uuid": "7e645184834ee69dc0bbfe61966634e0779207b5",
    "execution": {
     "iopub.execute_input": "2022-04-22T05:39:19.361191Z",
     "iopub.status.busy": "2022-04-22T05:39:19.359394Z",
     "iopub.status.idle": "2022-04-22T05:39:19.377547Z",
     "shell.execute_reply": "2022-04-22T05:39:19.375631Z"
    },
    "papermill": {
     "duration": 0.040472,
     "end_time": "2022-04-22T05:39:19.380354",
     "exception": false,
     "start_time": "2022-04-22T05:39:19.339882",
     "status": "completed"
    },
    "tags": [],
    "vscode": {
     "languageId": "r"
    }
   },
   "outputs": [],
   "source": [
    "# Split the data back into a train set and a test set\n",
    "train <- full[1:891,]\n",
    "test <- full[892:1309,]"
   ]
  },
  {
   "cell_type": "markdown",
   "id": "6ffb39bc",
   "metadata": {
    "_uuid": "b7b91cfcac2c860c66686a0596ab88e305fce5e9",
    "papermill": {
     "duration": 0.016801,
     "end_time": "2022-04-22T05:39:19.413921",
     "exception": false,
     "start_time": "2022-04-22T05:39:19.397120",
     "status": "completed"
    },
    "tags": []
   },
   "source": [
    "## Building the model \n",
    "\n",
    "We then build our model using `randomForest` on the training set."
   ]
  },
  {
   "cell_type": "code",
   "execution_count": 40,
   "id": "f2687683",
   "metadata": {
    "_uuid": "a2864957bf265c98f0f90810c369c0cfa821084a",
    "execution": {
     "iopub.execute_input": "2022-04-22T05:39:19.451493Z",
     "iopub.status.busy": "2022-04-22T05:39:19.449745Z",
     "iopub.status.idle": "2022-04-22T05:39:19.464977Z",
     "shell.execute_reply": "2022-04-22T05:39:19.463044Z"
    },
    "papermill": {
     "duration": 0.03679,
     "end_time": "2022-04-22T05:39:19.467866",
     "exception": false,
     "start_time": "2022-04-22T05:39:19.431076",
     "status": "completed"
    },
    "tags": [],
    "vscode": {
     "languageId": "r"
    }
   },
   "outputs": [],
   "source": [
    "# Set a random seed\n",
    "set.seed(754)"
   ]
  },
  {
   "cell_type": "code",
   "execution_count": 41,
   "id": "5bb0b9b9",
   "metadata": {
    "_uuid": "256c5946a01543cb4350e8a0f49617a454a823da",
    "execution": {
     "iopub.execute_input": "2022-04-22T05:39:19.505019Z",
     "iopub.status.busy": "2022-04-22T05:39:19.503464Z",
     "iopub.status.idle": "2022-04-22T05:39:20.099610Z",
     "shell.execute_reply": "2022-04-22T05:39:20.097782Z"
    },
    "papermill": {
     "duration": 0.617938,
     "end_time": "2022-04-22T05:39:20.102642",
     "exception": false,
     "start_time": "2022-04-22T05:39:19.484704",
     "status": "completed"
    },
    "tags": [],
    "vscode": {
     "languageId": "r"
    }
   },
   "outputs": [],
   "source": [
    "# Build the model (note: not all possible variables are used)\n",
    "rf_model <- randomForest(factor(Survived) ~ Pclass + Sex + Age + SibSp + Parch + \n",
    "                                            Fare + Embarked + Title + \n",
    "                                            FsizeD + Child + Mother,\n",
    "                                            data = train)"
   ]
  },
  {
   "cell_type": "code",
   "execution_count": 42,
   "id": "555398af",
   "metadata": {
    "_uuid": "9265c88b54e34719b11ca8afb588a88dd57ffff9",
    "execution": {
     "iopub.execute_input": "2022-04-22T05:39:20.139623Z",
     "iopub.status.busy": "2022-04-22T05:39:20.138030Z",
     "iopub.status.idle": "2022-04-22T05:39:20.408586Z",
     "shell.execute_reply": "2022-04-22T05:39:20.406710Z"
    },
    "papermill": {
     "duration": 0.29146,
     "end_time": "2022-04-22T05:39:20.410829",
     "exception": false,
     "start_time": "2022-04-22T05:39:20.119369",
     "status": "completed"
    },
    "tags": [],
    "vscode": {
     "languageId": "r"
    }
   },
   "outputs": [
    {
     "data": {
      "image/png": "[encoded data removed]"
     },
     "metadata": {
      "image/png": {
       "height": 420,
       "width": 420
      }
     },
     "output_type": "display_data"
    }
   ],
   "source": [
    "# Show model error\n",
    "plot(rf_model, ylim=c(0,0.36))\n",
    "legend('topright', colnames(rf_model$err.rate), col=1:3, fill=1:3)"
   ]
  },
  {
   "cell_type": "markdown",
   "id": "97e38885",
   "metadata": {
    "_uuid": "826b92b5e8a274f732fbcdd3b28787c67f0bdd65",
    "papermill": {
     "duration": 0.018522,
     "end_time": "2022-04-22T05:39:20.448156",
     "exception": false,
     "start_time": "2022-04-22T05:39:20.429634",
     "status": "completed"
    },
    "tags": []
   },
   "source": [
    "## Variable importance\n"
   ]
  },
  {
   "cell_type": "code",
   "execution_count": 43,
   "id": "4af566bc",
   "metadata": {
    "_uuid": "b11b4e770ac3ea20b74e78085d8f3f9cc5088b6f",
    "execution": {
     "iopub.execute_input": "2022-04-22T05:39:20.488399Z",
     "iopub.status.busy": "2022-04-22T05:39:20.486738Z",
     "iopub.status.idle": "2022-04-22T05:39:20.504104Z",
     "shell.execute_reply": "2022-04-22T05:39:20.502133Z"
    },
    "papermill": {
     "duration": 0.04011,
     "end_time": "2022-04-22T05:39:20.506715",
     "exception": false,
     "start_time": "2022-04-22T05:39:20.466605",
     "status": "completed"
    },
    "tags": [],
    "vscode": {
     "languageId": "r"
    }
   },
   "outputs": [],
   "source": [
    "# Get importance\n",
    "importance    <- importance(rf_model)\n",
    "varImportance <- data.frame(Variables = row.names(importance), \n",
    "                            Importance = round(importance[ ,'MeanDecreaseGini'],2))\n"
   ]
  },
  {
   "cell_type": "code",
   "execution_count": 44,
   "id": "200fd054",
   "metadata": {
    "_uuid": "f3cbbef27cbbf362c7672856783ea33d3afc084b",
    "execution": {
     "iopub.execute_input": "2022-04-22T05:39:20.547716Z",
     "iopub.status.busy": "2022-04-22T05:39:20.546073Z",
     "iopub.status.idle": "2022-04-22T05:39:20.564684Z",
     "shell.execute_reply": "2022-04-22T05:39:20.562890Z"
    },
    "papermill": {
     "duration": 0.041906,
     "end_time": "2022-04-22T05:39:20.567052",
     "exception": false,
     "start_time": "2022-04-22T05:39:20.525146",
     "status": "completed"
    },
    "tags": [],
    "vscode": {
     "languageId": "r"
    }
   },
   "outputs": [],
   "source": [
    "# Create a rank variable based on importance\n",
    "rankImportance <- varImportance %>%\n",
    "  mutate(Rank = paste0('#',dense_rank(desc(Importance))))"
   ]
  },
  {
   "cell_type": "code",
   "execution_count": 45,
   "id": "88c94849",
   "metadata": {
    "_uuid": "31cd9450a82732ba53c9d105268060cc5617b146",
    "execution": {
     "iopub.execute_input": "2022-04-22T05:39:20.607147Z",
     "iopub.status.busy": "2022-04-22T05:39:20.605495Z",
     "iopub.status.idle": "2022-04-22T05:39:20.980095Z",
     "shell.execute_reply": "2022-04-22T05:39:20.978108Z"
    },
    "papermill": {
     "duration": 0.397036,
     "end_time": "2022-04-22T05:39:20.982591",
     "exception": false,
     "start_time": "2022-04-22T05:39:20.585555",
     "status": "completed"
    },
    "tags": [],
    "vscode": {
     "languageId": "r"
    }
   },
   "outputs": [
    {
     "data": {
      "image/png": "[encoded data removed]"
     },
     "metadata": {
      "image/png": {
       "height": 420,
       "width": 420
      }
     },
     "output_type": "display_data"
    }
   ],
   "source": [
    "# Use ggplot2 to visualize the relative importance of variables\n",
    "ggplot(rankImportance, aes(x = reorder(Variables, Importance), y = Importance, fill = Importance)) + geom_bar(stat='identity') + geom_text(aes(x = Variables, y = 0.5, label = Rank),hjust=0, vjust=0.55, size = 4, colour = 'red') +labs(x = 'Variables') +coord_flip() + theme_few()"
   ]
  },
  {
   "cell_type": "markdown",
   "id": "40c1ff9e",
   "metadata": {
    "_uuid": "e82784fb75246a8c43f8dae34b3af63e2070af7d",
    "papermill": {
     "duration": 0.01875,
     "end_time": "2022-04-22T05:39:21.020807",
     "exception": false,
     "start_time": "2022-04-22T05:39:21.002057",
     "status": "completed"
    },
    "tags": []
   },
   "source": [
    "## Prediction!"
   ]
  },
  {
   "cell_type": "code",
   "execution_count": 46,
   "id": "94e0e69d",
   "metadata": {
    "_uuid": "337b8d95c518ae83504ebb2c4cf1f8ba935b7501",
    "execution": {
     "iopub.execute_input": "2022-04-22T05:39:21.062566Z",
     "iopub.status.busy": "2022-04-22T05:39:21.060719Z",
     "iopub.status.idle": "2022-04-22T05:39:21.333840Z",
     "shell.execute_reply": "2022-04-22T05:39:21.331821Z"
    },
    "papermill": {
     "duration": 0.296841,
     "end_time": "2022-04-22T05:39:21.336811",
     "exception": false,
     "start_time": "2022-04-22T05:39:21.039970",
     "status": "completed"
    },
    "tags": [],
    "vscode": {
     "languageId": "r"
    }
   },
   "outputs": [],
   "source": [
    "# Predict using the test set\n",
    "prediction <- predict(rf_model, test)"
   ]
  },
  {
   "cell_type": "code",
   "execution_count": 47,
   "id": "7be0fd96",
   "metadata": {
    "_uuid": "b6efd61f4db8587acaca50567f1a40a9cdcf9d86",
    "execution": {
     "iopub.execute_input": "2022-04-22T05:39:21.378140Z",
     "iopub.status.busy": "2022-04-22T05:39:21.376558Z",
     "iopub.status.idle": "2022-04-22T05:39:21.391422Z",
     "shell.execute_reply": "2022-04-22T05:39:21.389768Z"
    },
    "papermill": {
     "duration": 0.038203,
     "end_time": "2022-04-22T05:39:21.394040",
     "exception": false,
     "start_time": "2022-04-22T05:39:21.355837",
     "status": "completed"
    },
    "tags": [],
    "vscode": {
     "languageId": "r"
    }
   },
   "outputs": [],
   "source": [
    "# Save the solution to a dataframe with two columns: PassengerId and Survived (prediction)\n",
    "solution <- data.frame(PassengerID = test$PassengerId, Survived = prediction)"
   ]
  },
  {
   "cell_type": "code",
   "execution_count": 48,
   "id": "60f0f1e0",
   "metadata": {
    "_uuid": "e01fc79a4100bf3dae927ebe4b50a03b3ece8304",
    "execution": {
     "iopub.execute_input": "2022-04-22T05:39:21.436110Z",
     "iopub.status.busy": "2022-04-22T05:39:21.434454Z",
     "iopub.status.idle": "2022-04-22T05:39:21.450311Z",
     "shell.execute_reply": "2022-04-22T05:39:21.448149Z"
    },
    "papermill": {
     "duration": 0.03945,
     "end_time": "2022-04-22T05:39:21.452839",
     "exception": false,
     "start_time": "2022-04-22T05:39:21.413389",
     "status": "completed"
    },
    "tags": [],
    "vscode": {
     "languageId": "r"
    }
   },
   "outputs": [],
   "source": [
    "# Write the solution to file\n",
    "write.csv(solution, file = 'rf_mod_Solution.csv', row.names = F)"
   ]
  }
 ],
 "metadata": {
  "kernelspec": {
   "display_name": "R",
   "language": "R",
   "name": "ir"
  },
  "language_info": {
   "codemirror_mode": "r",
   "file_extension": ".r",
   "mimetype": "text/x-r-source",
   "name": "R",
   "pygments_lexer": "r",
   "version": "4.0.5"
  },
  "papermill": {
   "default_parameters": {},
   "duration": 119.902025,
   "end_time": "2022-04-22T05:39:21.593501",
   "environment_variables": {},
   "exception": null,
   "input_path": "__notebook__.ipynb",
   "output_path": "__notebook__.ipynb",
   "parameters": {},
   "start_time": "2022-04-22T05:37:21.691476",
   "version": "2.3.4"
  }
 },
 "nbformat": 4,
 "nbformat_minor": 5
}
